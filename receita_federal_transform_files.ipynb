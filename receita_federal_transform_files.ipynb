{
 "cells": [
  {
   "cell_type": "code",
   "execution_count": null,
   "metadata": {},
   "outputs": [],
   "source": [
    "from pyspark.sql import SparkSession\n",
    "from pyspark.sql.types import StructType, StringType, BooleanType, LongType, DoubleType\n",
    "import json"
   ]
  },
  {
   "cell_type": "code",
   "execution_count": null,
   "metadata": {},
   "outputs": [],
   "source": [
    "spark = SparkSession.builder \\\n",
    "    .appName(\"Lendo arquivos CSV\") \\\n",
    "    .getOrCreate()"
   ]
  },
  {
   "cell_type": "code",
   "execution_count": null,
   "metadata": {},
   "outputs": [],
   "source": [
    "def _build_schema(schema_arg: str):\n",
    "    d_types = {\n",
    "        \"string\": StringType(),\n",
    "        \"long\": LongType(),\n",
    "        \"double\": DoubleType(),\n",
    "        \"boll\": BooleanType()\n",
    "    }\n",
    "    \n",
    "    split_values = schema_arg.split(\",\")\n",
    "    schema = StructType()\n",
    "    \n",
    "    for word in split_values:\n",
    "        x = word.split(\":\")\n",
    "        schema.add(x[0], d_types[x[1]], True)\n",
    "    \n",
    "    return schema"
   ]
  },
  {
   "cell_type": "code",
   "execution_count": null,
   "metadata": {},
   "outputs": [],
   "source": [
    "def _get_schema_data(name: str) -> str:\n",
    "    with open(f\"./schemas/{name}.json\") as arquivo:\n",
    "        schema = json.load(arquivo)\n",
    "    return \",\".join(map(lambda p: f\"{p['name']}:{p['type']}\", schema['fields']))"
   ]
  },
  {
   "cell_type": "code",
   "execution_count": null,
   "metadata": {},
   "outputs": [],
   "source": [
    "def _join_files(table: str):\n",
    "    df = spark.read.options(sep=\";\",encoding=\"latin1\") \\\n",
    "                .schema(_build_schema(_get_schema_data(table))) \\\n",
    "                .csv(f\"./data/bronze/{table}\")\n",
    "    df.repartition(1).write.mode(\"overwrite\").parquet(f\"./data/silver/{table}\")"
   ]
  },
  {
   "cell_type": "code",
   "execution_count": null,
   "metadata": {},
   "outputs": [],
   "source": [
    "_join_files(\"Empresas\")"
   ]
  },
  {
   "cell_type": "code",
   "execution_count": null,
   "metadata": {},
   "outputs": [],
   "source": []
  }
 ],
 "metadata": {
  "kernelspec": {
   "display_name": "base",
   "language": "python",
   "name": "python3"
  },
  "language_info": {
   "codemirror_mode": {
    "name": "ipython",
    "version": 3
   },
   "file_extension": ".py",
   "mimetype": "text/x-python",
   "name": "python",
   "nbconvert_exporter": "python",
   "pygments_lexer": "ipython3",
   "version": "3.11.4"
  },
  "orig_nbformat": 4
 },
 "nbformat": 4,
 "nbformat_minor": 2
}
