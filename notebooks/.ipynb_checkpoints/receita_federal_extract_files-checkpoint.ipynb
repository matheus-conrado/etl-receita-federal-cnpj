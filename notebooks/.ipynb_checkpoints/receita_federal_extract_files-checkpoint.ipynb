{
 "cells": [
  {
   "cell_type": "code",
   "execution_count": 15,
   "id": "b84227ef-42ac-4643-94ca-4ad401771ae7",
   "metadata": {},
   "outputs": [],
   "source": [
    "import requests\n",
    "import bs4\n",
    "from tqdm import tqdm\n",
    "from zipfile import ZipFile\n",
    "import re"
   ]
  },
  {
   "cell_type": "code",
   "execution_count": 16,
   "id": "0881865a-6f13-43ff-8e0a-a7f43bf4e38f",
   "metadata": {},
   "outputs": [],
   "source": [
    "url = \"https://dadosabertos.rfb.gov.br/CNPJ/\"\n",
    "_regex = r\"^([A-Za-z]+)\\d*\""
   ]
  },
  {
   "cell_type": "code",
   "execution_count": 17,
   "id": "9a1729f2",
   "metadata": {},
   "outputs": [],
   "source": [
    "def _extract_files(url):\n",
    "    file_name = url.split(\"/\")[-1]\n",
    "    with ZipFile(f\".//data//bronze//{file_name}\", 'r') as zip_ref:\n",
    "        zip_ref.extractall(f\"..//data//bronze//{re.match(_regex, file_name).group(1)}//\")"
   ]
  },
  {
   "cell_type": "code",
   "execution_count": 18,
   "id": "29c43993-e9ca-41a6-8d09-afb95de0eb27",
   "metadata": {},
   "outputs": [],
   "source": [
    "def _download_file(url):\n",
    "    req = requests.get(url, stream=True, headers={\"Accept-Encoding\": None})\n",
    "    total_size = int(req.headers.get(\"Content-Length\", 0))\n",
    "    block_size = 1024\n",
    "    filename = url.split(\"/\")[-1]\n",
    "    \n",
    "    t = tqdm(total=total_size, unit=\"iB\", unit_scale=True)\n",
    "    with open(f\".//data//bronze//{filename}\", \"wb\") as f:\n",
    "        for data in req.iter_content(block_size):\n",
    "            t.update(len(data))\n",
    "            f.write(data)\n",
    "    t.close()"
   ]
  },
  {
   "cell_type": "code",
   "execution_count": 19,
   "id": "018879a6-cbee-42a4-ab40-8819e0ea8725",
   "metadata": {},
   "outputs": [],
   "source": [
    "def get_links_for_download(url: str):\n",
    "    req = requests.get(url)\n",
    "    sc = bs4.BeautifulSoup(req.text)\n",
    "    links = [url + i.get('href') for i in sc.find_all('a') if '.zip' in i.get('href')]\n",
    "    return links"
   ]
  },
  {
   "cell_type": "code",
   "execution_count": 20,
   "id": "ba392add-6735-4313-b5e4-145db21dabb4",
   "metadata": {},
   "outputs": [
    {
     "name": "stderr",
     "output_type": "stream",
     "text": [
      "\n",
      "\n",
      "  0%|          | 0.00/22.1k [00:00<?, ?iB/s]\u001b[A\u001b[A"
     ]
    },
    {
     "ename": "FileNotFoundError",
     "evalue": "[Errno 2] No such file or directory: '..//data//bronze//Cnaes.zip'",
     "output_type": "error",
     "traceback": [
      "\u001b[0;31m---------------------------------------------------------------------------\u001b[0m",
      "\u001b[0;31mFileNotFoundError\u001b[0m                         Traceback (most recent call last)",
      "Cell \u001b[0;32mIn[20], line 3\u001b[0m\n\u001b[1;32m      1\u001b[0m links \u001b[38;5;241m=\u001b[39m get_links_for_download(url)\n\u001b[1;32m      2\u001b[0m \u001b[38;5;28;01mfor\u001b[39;00m url \u001b[38;5;129;01min\u001b[39;00m links:\n\u001b[0;32m----> 3\u001b[0m     \u001b[43m_download_file\u001b[49m\u001b[43m(\u001b[49m\u001b[43murl\u001b[49m\u001b[43m)\u001b[49m\n\u001b[1;32m      4\u001b[0m     _extract_files(url)\n",
      "Cell \u001b[0;32mIn[18], line 8\u001b[0m, in \u001b[0;36m_download_file\u001b[0;34m(url)\u001b[0m\n\u001b[1;32m      5\u001b[0m filename \u001b[38;5;241m=\u001b[39m url\u001b[38;5;241m.\u001b[39msplit(\u001b[38;5;124m\"\u001b[39m\u001b[38;5;124m/\u001b[39m\u001b[38;5;124m\"\u001b[39m)[\u001b[38;5;241m-\u001b[39m\u001b[38;5;241m1\u001b[39m]\n\u001b[1;32m      7\u001b[0m t \u001b[38;5;241m=\u001b[39m tqdm(total\u001b[38;5;241m=\u001b[39mtotal_size, unit\u001b[38;5;241m=\u001b[39m\u001b[38;5;124m\"\u001b[39m\u001b[38;5;124miB\u001b[39m\u001b[38;5;124m\"\u001b[39m, unit_scale\u001b[38;5;241m=\u001b[39m\u001b[38;5;28;01mTrue\u001b[39;00m)\n\u001b[0;32m----> 8\u001b[0m \u001b[38;5;28;01mwith\u001b[39;00m \u001b[38;5;28;43mopen\u001b[39;49m\u001b[43m(\u001b[49m\u001b[38;5;124;43mf\u001b[39;49m\u001b[38;5;124;43m\"\u001b[39;49m\u001b[38;5;124;43m..//data//bronze//\u001b[39;49m\u001b[38;5;132;43;01m{\u001b[39;49;00m\u001b[43mfilename\u001b[49m\u001b[38;5;132;43;01m}\u001b[39;49;00m\u001b[38;5;124;43m\"\u001b[39;49m\u001b[43m,\u001b[49m\u001b[43m \u001b[49m\u001b[38;5;124;43m\"\u001b[39;49m\u001b[38;5;124;43mwb\u001b[39;49m\u001b[38;5;124;43m\"\u001b[39;49m\u001b[43m)\u001b[49m \u001b[38;5;28;01mas\u001b[39;00m f:\n\u001b[1;32m      9\u001b[0m     \u001b[38;5;28;01mfor\u001b[39;00m data \u001b[38;5;129;01min\u001b[39;00m req\u001b[38;5;241m.\u001b[39miter_content(block_size):\n\u001b[1;32m     10\u001b[0m         t\u001b[38;5;241m.\u001b[39mupdate(\u001b[38;5;28mlen\u001b[39m(data))\n",
      "File \u001b[0;32m/opt/conda/lib/python3.11/site-packages/IPython/core/interactiveshell.py:284\u001b[0m, in \u001b[0;36m_modified_open\u001b[0;34m(file, *args, **kwargs)\u001b[0m\n\u001b[1;32m    277\u001b[0m \u001b[38;5;28;01mif\u001b[39;00m file \u001b[38;5;129;01min\u001b[39;00m {\u001b[38;5;241m0\u001b[39m, \u001b[38;5;241m1\u001b[39m, \u001b[38;5;241m2\u001b[39m}:\n\u001b[1;32m    278\u001b[0m     \u001b[38;5;28;01mraise\u001b[39;00m \u001b[38;5;167;01mValueError\u001b[39;00m(\n\u001b[1;32m    279\u001b[0m         \u001b[38;5;124mf\u001b[39m\u001b[38;5;124m\"\u001b[39m\u001b[38;5;124mIPython won\u001b[39m\u001b[38;5;124m'\u001b[39m\u001b[38;5;124mt let you open fd=\u001b[39m\u001b[38;5;132;01m{\u001b[39;00mfile\u001b[38;5;132;01m}\u001b[39;00m\u001b[38;5;124m by default \u001b[39m\u001b[38;5;124m\"\u001b[39m\n\u001b[1;32m    280\u001b[0m         \u001b[38;5;124m\"\u001b[39m\u001b[38;5;124mas it is likely to crash IPython. If you know what you are doing, \u001b[39m\u001b[38;5;124m\"\u001b[39m\n\u001b[1;32m    281\u001b[0m         \u001b[38;5;124m\"\u001b[39m\u001b[38;5;124myou can use builtins\u001b[39m\u001b[38;5;124m'\u001b[39m\u001b[38;5;124m open.\u001b[39m\u001b[38;5;124m\"\u001b[39m\n\u001b[1;32m    282\u001b[0m     )\n\u001b[0;32m--> 284\u001b[0m \u001b[38;5;28;01mreturn\u001b[39;00m \u001b[43mio_open\u001b[49m\u001b[43m(\u001b[49m\u001b[43mfile\u001b[49m\u001b[43m,\u001b[49m\u001b[43m \u001b[49m\u001b[38;5;241;43m*\u001b[39;49m\u001b[43margs\u001b[49m\u001b[43m,\u001b[49m\u001b[43m \u001b[49m\u001b[38;5;241;43m*\u001b[39;49m\u001b[38;5;241;43m*\u001b[39;49m\u001b[43mkwargs\u001b[49m\u001b[43m)\u001b[49m\n",
      "\u001b[0;31mFileNotFoundError\u001b[0m: [Errno 2] No such file or directory: '..//data//bronze//Cnaes.zip'"
     ]
    }
   ],
   "source": [
    "links = get_links_for_download(url)\n",
    "for url in links:\n",
    "    _download_file(url)\n",
    "    _extract_files(url)"
   ]
  },
  {
   "cell_type": "code",
   "execution_count": null,
   "id": "3901a9c9-544e-4a4e-bdb5-3b6791d7d980",
   "metadata": {},
   "outputs": [],
   "source": []
  }
 ],
 "metadata": {
  "kernelspec": {
   "display_name": "Python 3 (ipykernel)",
   "language": "python",
   "name": "python3"
  },
  "language_info": {
   "codemirror_mode": {
    "name": "ipython",
    "version": 3
   },
   "file_extension": ".py",
   "mimetype": "text/x-python",
   "name": "python",
   "nbconvert_exporter": "python",
   "pygments_lexer": "ipython3",
   "version": "3.11.4"
  }
 },
 "nbformat": 4,
 "nbformat_minor": 5
}
