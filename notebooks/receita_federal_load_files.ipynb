{
 "cells": [
  {
   "cell_type": "code",
   "execution_count": 1,
   "metadata": {},
   "outputs": [],
   "source": [
    "from pyspark.sql import SparkSession\n",
    "from pyspark.sql.types import StructType, StringType, BooleanType, LongType, DoubleType\n",
    "import json"
   ]
  },
  {
   "cell_type": "code",
   "execution_count": 2,
   "metadata": {},
   "outputs": [],
   "source": [
    "spark = SparkSession.builder \\\n",
    "    .appName(\"Lendo arquivos Parquet\") \\\n",
    "    .getOrCreate()"
   ]
  },
  {
   "cell_type": "code",
   "execution_count": 3,
   "metadata": {},
   "outputs": [],
   "source": [
    "def _get_schema_data(name: str) -> str:\n",
    "    with open(f\"../schemas/{name}.json\") as arquivo:\n",
    "        schema = json.load(arquivo)\n",
    "    return \",\".join(map(lambda p: f\"{p['name']}:{p['type']}\", schema['fields']))"
   ]
  },
  {
   "cell_type": "code",
   "execution_count": 4,
   "metadata": {},
   "outputs": [],
   "source": [
    "def _build_schema(schema_arg: str):\n",
    "    d_types = {\n",
    "        \"string\": StringType(),\n",
    "        \"long\": LongType(),\n",
    "        \"double\": DoubleType(),\n",
    "        \"bool\": BooleanType()\n",
    "    }\n",
    "    \n",
    "    split_values = schema_arg.split(\",\")\n",
    "    schema = StructType()\n",
    "    \n",
    "    for word in split_values:\n",
    "        x = word.split(\":\")\n",
    "        schema.add(x[0], d_types[x[1]], True)\n",
    "    \n",
    "    return schema"
   ]
  },
  {
   "cell_type": "code",
   "execution_count": 5,
   "metadata": {},
   "outputs": [],
   "source": [
    "def _get_file(table: str):\n",
    "    df = spark.read \\\n",
    "                .schema(_build_schema(_get_schema_data(table))) \\\n",
    "                .parquet(f\"../data/silver/{table}\")\n",
    "    return df.show()"
   ]
  },
  {
   "cell_type": "code",
   "execution_count": 12,
   "metadata": {},
   "outputs": [
    {
     "name": "stdout",
     "output_type": "stream",
     "text": [
      "+-------------+--------------------+\n",
      "|cod_municipio|       des_municipio|\n",
      "+-------------+--------------------+\n",
      "|            1|       GUAJARA-MIRIM|\n",
      "|            2|ALTO ALEGRE DOS P...|\n",
      "|            3|         PORTO VELHO|\n",
      "|            4|             BURITIS|\n",
      "|            5|           JI-PARANA|\n",
      "|            6|         CHUPINGUAIA|\n",
      "|            7|           ARIQUEMES|\n",
      "|            8|             CUJUBIM|\n",
      "|            9|              CACOAL|\n",
      "|           10|          NOVA UNIAO|\n",
      "|           11|       PIMENTA BUENO|\n",
      "|           12|             PARECIS|\n",
      "|           13|             VILHENA|\n",
      "|           14|PIMENTEIRAS DO OESTE|\n",
      "|           15|                JARU|\n",
      "|           16|PRIMAVERA DE ROND...|\n",
      "|           17| OURO PRETO DO OESTE|\n",
      "|           18|  SAO FELIPE D'OESTE|\n",
      "|           19|   PRESIDENTE MEDICI|\n",
      "|           20|SAO FRANCISCO DO ...|\n",
      "+-------------+--------------------+\n",
      "only showing top 20 rows\n",
      "\n"
     ]
    }
   ],
   "source": [
    "_get_file(\"Municipios\")"
   ]
  },
  {
   "cell_type": "code",
   "execution_count": null,
   "metadata": {},
   "outputs": [],
   "source": []
  }
 ],
 "metadata": {
  "kernelspec": {
   "display_name": "base",
   "language": "python",
   "name": "python3"
  },
  "language_info": {
   "codemirror_mode": {
    "name": "ipython",
    "version": 3
   },
   "file_extension": ".py",
   "mimetype": "text/x-python",
   "name": "python",
   "nbconvert_exporter": "python",
   "pygments_lexer": "ipython3",
   "version": "3.11.4"
  },
  "orig_nbformat": 4
 },
 "nbformat": 4,
 "nbformat_minor": 2
}
