{
 "cells": [
  {
   "cell_type": "code",
   "execution_count": 20,
   "id": "b84227ef-42ac-4643-94ca-4ad401771ae7",
   "metadata": {},
   "outputs": [],
   "source": [
    "import requests\n",
    "import bs4\n",
    "from tqdm import tqdm\n",
    "from zipfile import ZipFile\n",
    "import re"
   ]
  },
  {
   "cell_type": "code",
   "execution_count": 21,
   "id": "0881865a-6f13-43ff-8e0a-a7f43bf4e38f",
   "metadata": {},
   "outputs": [],
   "source": [
    "url = \"https://dadosabertos.rfb.gov.br/CNPJ/\"\n",
    "_regex = r\"^([A-Za-z]+)\\d*\""
   ]
  },
  {
   "cell_type": "code",
   "execution_count": 22,
   "id": "9a1729f2",
   "metadata": {},
   "outputs": [],
   "source": [
    "def _extract_files(url):\n",
    "    file_name = url.split(\"/\")[-1]\n",
    "    with ZipFile(f\".//data//bronze//{file_name}\", 'r') as zip_ref:\n",
    "        zip_ref.extractall(f\".//data//bronze//{re.match(_regex, file_name).group(1)}//\")"
   ]
  },
  {
   "cell_type": "code",
   "execution_count": 23,
   "id": "29c43993-e9ca-41a6-8d09-afb95de0eb27",
   "metadata": {},
   "outputs": [],
   "source": [
    "def _download_file(url):\n",
    "    req = requests.get(url, stream=True, headers={\"Accept-Encoding\": None})\n",
    "    total_size = int(req.headers.get(\"Content-Length\", 0))\n",
    "    block_size = 1024\n",
    "    filename = url.split(\"/\")[-1]\n",
    "    \n",
    "    t = tqdm(total=total_size, unit=\"iB\", unit_scale=True)\n",
    "    with open(f\".//data//bronze//{filename}\", \"wb\") as f:\n",
    "        for data in req.iter_content(block_size):\n",
    "            t.update(len(data))\n",
    "            f.write(data)\n",
    "    t.close()"
   ]
  },
  {
   "cell_type": "code",
   "execution_count": 24,
   "id": "018879a6-cbee-42a4-ab40-8819e0ea8725",
   "metadata": {},
   "outputs": [],
   "source": [
    "def get_links_for_download(url: str):\n",
    "    req = requests.get(url)\n",
    "    sc = bs4.BeautifulSoup(req.text)\n",
    "    links = [url + i.get('href') for i in sc.find_all('a') if '.zip' in i.get('href')]\n",
    "    return links"
   ]
  },
  {
   "cell_type": "code",
   "execution_count": 25,
   "id": "ba392add-6735-4313-b5e4-145db21dabb4",
   "metadata": {},
   "outputs": [
    {
     "name": "stderr",
     "output_type": "stream",
     "text": [
      "100%|██████████| 22.1k/22.1k [00:00<00:00, 1.08MiB/s]\n",
      "100%|██████████| 269M/269M [00:23<00:00, 11.5MiB/s]\n",
      "100%|██████████| 77.7M/77.7M [00:06<00:00, 11.7MiB/s]\n",
      "100%|██████████| 78.9M/78.9M [00:06<00:00, 11.5MiB/s]\n",
      "100%|██████████| 85.2M/85.2M [00:07<00:00, 11.6MiB/s]\n",
      "100%|██████████| 90.5M/90.5M [00:07<00:00, 11.7MiB/s]\n",
      "100%|██████████| 97.8M/97.8M [00:08<00:00, 11.6MiB/s]\n",
      "100%|██████████| 94.9M/94.9M [00:08<00:00, 11.5MiB/s]\n",
      "100%|██████████| 99.7M/99.7M [00:08<00:00, 11.7MiB/s]\n",
      "100%|██████████| 100M/100M [00:08<00:00, 11.4MiB/s] \n",
      "100%|██████████| 95.7M/95.7M [00:08<00:00, 11.7MiB/s]\n",
      "100%|██████████| 1.06G/1.06G [01:32<00:00, 11.4MiB/s]\n",
      "100%|██████████| 344M/344M [00:29<00:00, 11.9MiB/s]\n",
      "100%|██████████| 346M/346M [00:34<00:00, 9.99MiB/s]\n",
      "100%|██████████| 344M/344M [00:38<00:00, 8.94MiB/s]\n",
      "100%|██████████| 347M/347M [00:33<00:00, 10.4MiB/s]\n",
      "100%|██████████| 358M/358M [01:00<00:00, 5.94MiB/s]\n",
      "100%|██████████| 365M/365M [00:52<00:00, 6.99MiB/s]\n",
      "100%|██████████| 346M/346M [00:41<00:00, 8.42MiB/s]\n",
      "100%|██████████| 346M/346M [00:31<00:00, 10.9MiB/s]\n",
      "100%|██████████| 344M/344M [00:31<00:00, 11.1MiB/s]\n",
      "100%|██████████| 1.13k/1.13k [00:00<00:00, 1.84MiB/s]\n",
      "100%|██████████| 43.4k/43.4k [00:00<00:00, 1.14MiB/s]\n",
      "100%|██████████| 1.52k/1.52k [00:00<00:00, 1.35MiB/s]\n",
      "100%|██████████| 2.75k/2.75k [00:00<00:00, 522kiB/s]\n",
      "100%|██████████| 980/980 [00:00<00:00, 1.63MiB/s]\n",
      "100%|██████████| 202M/202M [00:17<00:00, 11.6MiB/s]\n",
      "100%|██████████| 114M/114M [00:09<00:00, 11.6MiB/s]\n",
      "100%|██████████| 49.3M/49.3M [00:04<00:00, 10.0MiB/s]\n",
      "100%|██████████| 49.2M/49.2M [00:04<00:00, 10.7MiB/s]\n",
      "100%|██████████| 49.1M/49.1M [00:04<00:00, 10.5MiB/s]\n",
      "100%|██████████| 49.2M/49.2M [00:04<00:00, 11.3MiB/s]\n",
      "100%|██████████| 49.3M/49.3M [00:04<00:00, 11.1MiB/s]\n",
      "100%|██████████| 49.0M/49.0M [00:04<00:00, 11.3MiB/s]\n",
      "100%|██████████| 49.1M/49.1M [00:04<00:00, 10.9MiB/s]\n",
      "100%|██████████| 49.1M/49.1M [00:04<00:00, 10.1MiB/s]\n",
      "100%|██████████| 49.3M/49.3M [00:04<00:00, 11.5MiB/s]\n"
     ]
    }
   ],
   "source": [
    "links = get_links_for_download(url)\n",
    "for url in links:\n",
    "    _download_file(url)\n",
    "    _extract_files(url)"
   ]
  },
  {
   "cell_type": "code",
   "execution_count": null,
   "id": "3901a9c9-544e-4a4e-bdb5-3b6791d7d980",
   "metadata": {},
   "outputs": [],
   "source": []
  }
 ],
 "metadata": {
  "kernelspec": {
   "display_name": "Python 3 (ipykernel)",
   "language": "python",
   "name": "python3"
  },
  "language_info": {
   "codemirror_mode": {
    "name": "ipython",
    "version": 3
   },
   "file_extension": ".py",
   "mimetype": "text/x-python",
   "name": "python",
   "nbconvert_exporter": "python",
   "pygments_lexer": "ipython3",
   "version": "3.11.4"
  }
 },
 "nbformat": 4,
 "nbformat_minor": 5
}
