{
 "cells": [
  {
   "cell_type": "code",
   "execution_count": 1,
   "id": "b84227ef-42ac-4643-94ca-4ad401771ae7",
   "metadata": {},
   "outputs": [],
   "source": [
    "import requests\n",
    "import bs4\n",
    "from tqdm import tqdm\n",
    "from zipfile import ZipFile\n",
    "import re"
   ]
  },
  {
   "cell_type": "code",
   "execution_count": 2,
   "id": "0881865a-6f13-43ff-8e0a-a7f43bf4e38f",
   "metadata": {},
   "outputs": [],
   "source": [
    "url = \"https://dadosabertos.rfb.gov.br/CNPJ/\"\n",
    "_regex = r\"^([A-Za-z]+)\\d*\""
   ]
  },
  {
   "cell_type": "code",
   "execution_count": 3,
   "id": "9a1729f2",
   "metadata": {},
   "outputs": [],
   "source": [
    "def _extract_files(url):\n",
    "    file_name = url.split(\"/\")[-1]\n",
    "    with ZipFile(f\"..//data//bronze//{file_name}\", 'r') as zip_ref:\n",
    "        zip_ref.extractall(f\"..//data//bronze//{re.match(_regex, file_name).group(1)}//\")"
   ]
  },
  {
   "cell_type": "code",
   "execution_count": 4,
   "id": "29c43993-e9ca-41a6-8d09-afb95de0eb27",
   "metadata": {},
   "outputs": [],
   "source": [
    "def _download_file(url):\n",
    "    req = requests.get(url, stream=True, headers={\"Accept-Encoding\": None})\n",
    "    total_size = int(req.headers.get(\"Content-Length\", 0))\n",
    "    block_size = 1024\n",
    "    filename = url.split(\"/\")[-1]\n",
    "    \n",
    "    t = tqdm(total=total_size, unit=\"iB\", unit_scale=True)\n",
    "    with open(f\"..//data//bronze//{filename}\", \"wb\") as f:\n",
    "        for data in req.iter_content(block_size):\n",
    "            t.update(len(data))\n",
    "            f.write(data)\n",
    "    t.close()"
   ]
  },
  {
   "cell_type": "code",
   "execution_count": 5,
   "id": "018879a6-cbee-42a4-ab40-8819e0ea8725",
   "metadata": {},
   "outputs": [],
   "source": [
    "def get_links_for_download(url: str):\n",
    "    req = requests.get(url)\n",
    "    sc = bs4.BeautifulSoup(req.text)\n",
    "    links = [url + i.get('href') for i in sc.find_all('a') if '.zip' in i.get('href')]\n",
    "    return links"
   ]
  },
  {
   "cell_type": "code",
   "execution_count": 6,
   "id": "ba392add-6735-4313-b5e4-145db21dabb4",
   "metadata": {},
   "outputs": [
    {
     "name": "stdout",
     "output_type": "stream",
     "text": [
      "['https://dadosabertos.rfb.gov.br/CNPJ/Cnaes.zip', 'https://dadosabertos.rfb.gov.br/CNPJ/Empresas0.zip', 'https://dadosabertos.rfb.gov.br/CNPJ/Empresas1.zip', 'https://dadosabertos.rfb.gov.br/CNPJ/Empresas2.zip', 'https://dadosabertos.rfb.gov.br/CNPJ/Empresas3.zip', 'https://dadosabertos.rfb.gov.br/CNPJ/Empresas4.zip', 'https://dadosabertos.rfb.gov.br/CNPJ/Empresas5.zip', 'https://dadosabertos.rfb.gov.br/CNPJ/Empresas6.zip', 'https://dadosabertos.rfb.gov.br/CNPJ/Empresas7.zip', 'https://dadosabertos.rfb.gov.br/CNPJ/Empresas8.zip', 'https://dadosabertos.rfb.gov.br/CNPJ/Empresas9.zip', 'https://dadosabertos.rfb.gov.br/CNPJ/Estabelecimentos0.zip', 'https://dadosabertos.rfb.gov.br/CNPJ/Estabelecimentos1.zip', 'https://dadosabertos.rfb.gov.br/CNPJ/Estabelecimentos2.zip', 'https://dadosabertos.rfb.gov.br/CNPJ/Estabelecimentos3.zip', 'https://dadosabertos.rfb.gov.br/CNPJ/Estabelecimentos4.zip', 'https://dadosabertos.rfb.gov.br/CNPJ/Estabelecimentos5.zip', 'https://dadosabertos.rfb.gov.br/CNPJ/Estabelecimentos6.zip', 'https://dadosabertos.rfb.gov.br/CNPJ/Estabelecimentos7.zip', 'https://dadosabertos.rfb.gov.br/CNPJ/Estabelecimentos8.zip', 'https://dadosabertos.rfb.gov.br/CNPJ/Estabelecimentos9.zip', 'https://dadosabertos.rfb.gov.br/CNPJ/Motivos.zip', 'https://dadosabertos.rfb.gov.br/CNPJ/Municipios.zip', 'https://dadosabertos.rfb.gov.br/CNPJ/Naturezas.zip', 'https://dadosabertos.rfb.gov.br/CNPJ/Paises.zip', 'https://dadosabertos.rfb.gov.br/CNPJ/Qualificacoes.zip', 'https://dadosabertos.rfb.gov.br/CNPJ/Simples.zip', 'https://dadosabertos.rfb.gov.br/CNPJ/Socios0.zip', 'https://dadosabertos.rfb.gov.br/CNPJ/Socios1.zip', 'https://dadosabertos.rfb.gov.br/CNPJ/Socios2.zip', 'https://dadosabertos.rfb.gov.br/CNPJ/Socios3.zip', 'https://dadosabertos.rfb.gov.br/CNPJ/Socios4.zip', 'https://dadosabertos.rfb.gov.br/CNPJ/Socios5.zip', 'https://dadosabertos.rfb.gov.br/CNPJ/Socios6.zip', 'https://dadosabertos.rfb.gov.br/CNPJ/Socios7.zip', 'https://dadosabertos.rfb.gov.br/CNPJ/Socios8.zip', 'https://dadosabertos.rfb.gov.br/CNPJ/Socios9.zip']\n"
     ]
    },
    {
     "name": "stderr",
     "output_type": "stream",
     "text": [
      "  0%|          | 0.00/22.1k [00:00<?, ?iB/s]"
     ]
    },
    {
     "ename": "FileNotFoundError",
     "evalue": "[Errno 2] No such file or directory: '..//data//bronze//Cnaes.zip'",
     "output_type": "error",
     "traceback": [
      "\u001b[0;31m---------------------------------------------------------------------------\u001b[0m",
      "\u001b[0;31mFileNotFoundError\u001b[0m                         Traceback (most recent call last)",
      "Cell \u001b[0;32mIn[6], line 4\u001b[0m\n\u001b[1;32m      2\u001b[0m \u001b[39mprint\u001b[39m(links)\n\u001b[1;32m      3\u001b[0m \u001b[39m#for url in links:\u001b[39;00m\n\u001b[0;32m----> 4\u001b[0m _download_file(links[\u001b[39m0\u001b[39;49m])\n\u001b[1;32m      5\u001b[0m _extract_files(url[\u001b[39m0\u001b[39m])\n",
      "Cell \u001b[0;32mIn[4], line 8\u001b[0m, in \u001b[0;36m_download_file\u001b[0;34m(url)\u001b[0m\n\u001b[1;32m      5\u001b[0m filename \u001b[39m=\u001b[39m url\u001b[39m.\u001b[39msplit(\u001b[39m\"\u001b[39m\u001b[39m/\u001b[39m\u001b[39m\"\u001b[39m)[\u001b[39m-\u001b[39m\u001b[39m1\u001b[39m]\n\u001b[1;32m      7\u001b[0m t \u001b[39m=\u001b[39m tqdm(total\u001b[39m=\u001b[39mtotal_size, unit\u001b[39m=\u001b[39m\u001b[39m\"\u001b[39m\u001b[39miB\u001b[39m\u001b[39m\"\u001b[39m, unit_scale\u001b[39m=\u001b[39m\u001b[39mTrue\u001b[39;00m)\n\u001b[0;32m----> 8\u001b[0m \u001b[39mwith\u001b[39;00m \u001b[39mopen\u001b[39;49m(\u001b[39mf\u001b[39;49m\u001b[39m\"\u001b[39;49m\u001b[39m..//data//bronze//\u001b[39;49m\u001b[39m{\u001b[39;49;00mfilename\u001b[39m}\u001b[39;49;00m\u001b[39m\"\u001b[39;49m, \u001b[39m\"\u001b[39;49m\u001b[39mwb\u001b[39;49m\u001b[39m\"\u001b[39;49m) \u001b[39mas\u001b[39;00m f:\n\u001b[1;32m      9\u001b[0m     \u001b[39mfor\u001b[39;00m data \u001b[39min\u001b[39;00m req\u001b[39m.\u001b[39miter_content(block_size):\n\u001b[1;32m     10\u001b[0m         t\u001b[39m.\u001b[39mupdate(\u001b[39mlen\u001b[39m(data))\n",
      "File \u001b[0;32m/opt/conda/lib/python3.11/site-packages/IPython/core/interactiveshell.py:284\u001b[0m, in \u001b[0;36m_modified_open\u001b[0;34m(file, *args, **kwargs)\u001b[0m\n\u001b[1;32m    277\u001b[0m \u001b[39mif\u001b[39;00m file \u001b[39min\u001b[39;00m {\u001b[39m0\u001b[39m, \u001b[39m1\u001b[39m, \u001b[39m2\u001b[39m}:\n\u001b[1;32m    278\u001b[0m     \u001b[39mraise\u001b[39;00m \u001b[39mValueError\u001b[39;00m(\n\u001b[1;32m    279\u001b[0m         \u001b[39mf\u001b[39m\u001b[39m\"\u001b[39m\u001b[39mIPython won\u001b[39m\u001b[39m'\u001b[39m\u001b[39mt let you open fd=\u001b[39m\u001b[39m{\u001b[39;00mfile\u001b[39m}\u001b[39;00m\u001b[39m by default \u001b[39m\u001b[39m\"\u001b[39m\n\u001b[1;32m    280\u001b[0m         \u001b[39m\"\u001b[39m\u001b[39mas it is likely to crash IPython. If you know what you are doing, \u001b[39m\u001b[39m\"\u001b[39m\n\u001b[1;32m    281\u001b[0m         \u001b[39m\"\u001b[39m\u001b[39myou can use builtins\u001b[39m\u001b[39m'\u001b[39m\u001b[39m open.\u001b[39m\u001b[39m\"\u001b[39m\n\u001b[1;32m    282\u001b[0m     )\n\u001b[0;32m--> 284\u001b[0m \u001b[39mreturn\u001b[39;00m io_open(file, \u001b[39m*\u001b[39;49margs, \u001b[39m*\u001b[39;49m\u001b[39m*\u001b[39;49mkwargs)\n",
      "\u001b[0;31mFileNotFoundError\u001b[0m: [Errno 2] No such file or directory: '..//data//bronze//Cnaes.zip'"
     ]
    }
   ],
   "source": [
    "links = get_links_for_download(url)\n",
    "for url in links:\n",
    "    _download_file(links)\n",
    "    _extract_files(links)"
   ]
  }
 ],
 "metadata": {
  "kernelspec": {
   "display_name": "Python 3 (ipykernel)",
   "language": "python",
   "name": "python3"
  },
  "language_info": {
   "codemirror_mode": {
    "name": "ipython",
    "version": 3
   },
   "file_extension": ".py",
   "mimetype": "text/x-python",
   "name": "python",
   "nbconvert_exporter": "python",
   "pygments_lexer": "ipython3",
   "version": "3.11.4"
  }
 },
 "nbformat": 4,
 "nbformat_minor": 5
}
